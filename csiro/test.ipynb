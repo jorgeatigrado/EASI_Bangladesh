{
 "cells": [
  {
   "cell_type": "markdown",
   "id": "e4cbf04b-d1c2-4dda-bba4-8bcec7a08b02",
   "metadata": {
    "tags": []
   },
   "source": [
    "## This is a test file\n"
   ]
  },
  {
   "cell_type": "code",
   "execution_count": null,
   "id": "e4764e3e-2536-4ac5-8ca3-50ec51f1c704",
   "metadata": {},
   "outputs": [],
   "source": []
  }
 ],
 "metadata": {
  "kernelspec": {
   "display_name": "Python 3 (ipykernel)",
   "language": "python",
   "name": "python3"
  },
  "language_info": {
   "codemirror_mode": {
    "name": "ipython",
    "version": 3
   },
   "file_extension": ".py",
   "mimetype": "text/x-python",
   "name": "python",
   "nbconvert_exporter": "python",
   "pygments_lexer": "ipython3",
   "version": "3.10.12"
  }
 },
 "nbformat": 4,
 "nbformat_minor": 5
}
